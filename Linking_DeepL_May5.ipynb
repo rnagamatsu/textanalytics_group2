{
  "nbformat": 4,
  "nbformat_minor": 0,
  "metadata": {
    "colab": {
      "provenance": []
    },
    "kernelspec": {
      "name": "python3",
      "display_name": "Python 3"
    },
    "language_info": {
      "name": "python"
    }
  },
  "cells": [
    {
      "cell_type": "markdown",
      "source": [
        "## Linking DeepL with API"
      ],
      "metadata": {
        "id": "tnTJPJXflIkT"
      }
    },
    {
      "cell_type": "code",
      "execution_count": 3,
      "metadata": {
        "colab": {
          "base_uri": "https://localhost:8080/"
        },
        "id": "ji_vk273kb32",
        "outputId": "bf3c4ed3-52dd-416d-b0da-1ce57bca0f79"
      },
      "outputs": [
        {
          "output_type": "stream",
          "name": "stdout",
          "text": [
            "She's just a kid.\n"
          ]
        }
      ],
      "source": [
        "import requests\n",
        "\n",
        "# NOTE: put API KEY\n",
        "API_KEY:str = '0a1a3e58-2b7f-4259-b61b-a5236e81e07e:fx'\n",
        "txt = '彼女はただの子供です'\n",
        "\n",
        "params = {\n",
        "            \"auth_key\": API_KEY,\n",
        "            \"text\": txt,\n",
        "            \"source_lang\": 'JA',\n",
        "            \"target_lang\": 'EN'\n",
        "          }\n",
        "\n",
        "request = requests.post(\"https://api-free.deepl.com/v2/translate\", data=params)\n",
        "result = request.json()\n",
        "print(result[\"translations\"][0][\"text\"])\n"
      ]
    }
  ]
}