{
  "nbformat": 4,
  "nbformat_minor": 0,
  "metadata": {
    "colab": {
      "provenance": [],
      "collapsed_sections": [
        "08-505VlcCRR",
        "d0y6jpPJawFs"
      ],
      "include_colab_link": true
    },
    "kernelspec": {
      "name": "python3",
      "display_name": "Python 3"
    },
    "language_info": {
      "name": "python"
    }
  },
  "cells": [
    {
      "cell_type": "markdown",
      "metadata": {
        "id": "view-in-github",
        "colab_type": "text"
      },
      "source": [
        "<a href=\"https://colab.research.google.com/github/rnagamatsu/textanalytics_group2/blob/main/TA_Group2_Tokenization_ChatGPT.ipynb\" target=\"_parent\"><img src=\"https://colab.research.google.com/assets/colab-badge.svg\" alt=\"Open In Colab\"/></a>"
      ]
    },
    {
      "cell_type": "markdown",
      "source": [
        "# Import Data"
      ],
      "metadata": {
        "id": "08-505VlcCRR"
      }
    },
    {
      "cell_type": "markdown",
      "source": [
        "## Article\n",
        "\n",
        "Data from \"Flores 200\"\n",
        "\n",
        "Occasion: Article (News, report)\n",
        "\n",
        "Data bibliography\n",
        "\n",
        "@article{nllb-22, title = {No Language Left Behind: Scaling Human-Centered Machine Translation}, author = {{NLLB Team} and Costa-jussà, Marta R. and Cross, James and Çelebi, Onur and Elbayad, Maha and Heafield, Kenneth and Heffernan, Kevin and Kalbassi, Elahe and Lam, Janice and Licht, Daniel and Maillard, Jean and Sun, Anna and Wang, Skyler and Wenzek, Guillaume and Youngblood, Al and Akula, Bapi and Barrault, Loic and Mejia-Gonzalez, Gabriel and Hansanti, Prangthip and Hoffman, John and Jarrett, Semarley and Sadagopan, Kaushik Ram and Rowe, Dirk and Spruit, Shannon and Tran, Chau and Andrews, Pierre and Ayan, Necip Fazil and Bhosale, Shruti and Edunov, Sergey and Fan, Angela and Gao, Cynthia and Goswami, Vedanuj and Guzmán, Francisco and Koehn, Philipp and Mourachko, Alexandre and Ropers, Christophe and Saleem, Safiyyah and Schwenk, Holger and Wang, Jeff}, year = {2022}, eprint = {arXiv:1902.01382}, }"
      ],
      "metadata": {
        "id": "vF9VhA_SxDA7"
      }
    },
    {
      "cell_type": "markdown",
      "source": [
        "## Importing dataset (replace with Diego's code)"
      ],
      "metadata": {
        "id": "X77GLiDc5eL7"
      }
    },
    {
      "cell_type": "code",
      "source": [
        "import requests\n",
        "\n",
        "# URL of the file to be downloaded\n",
        "url = 'https://raw.githubusercontent.com/rnagamatsu/textanalytics_group2/main/flores200_group2/kor_Hang.dev'\n",
        "\n",
        "# Send HTTP request to the specified URL and save the response from server in a response object called r\n",
        "r = requests.get(url)\n",
        "\n",
        "# Get the text of the 'get' request\n",
        "kor = r.text\n",
        "\n",
        "print(kor)"
      ],
      "metadata": {
        "id": "aenHRxzzVAkn"
      },
      "execution_count": null,
      "outputs": []
    },
    {
      "cell_type": "code",
      "source": [
        "# import data: eng_Latn.dev\n",
        "with open('eng_Latn.dev', 'r') as f:\n",
        "    eng = f.read()\n",
        "print(eng)"
      ],
      "metadata": {
        "id": "SWy-ArktXlRa"
      },
      "execution_count": null,
      "outputs": []
    },
    {
      "cell_type": "code",
      "source": [
        "# import data: spa_Latn.dev\n",
        "with open('spa_Latn.dev', 'r') as f:\n",
        "    spa = f.read()\n",
        "print(spa)"
      ],
      "metadata": {
        "id": "6G29v8NDZXXg"
      },
      "execution_count": null,
      "outputs": []
    },
    {
      "cell_type": "code",
      "source": [
        "# import data: jpn_Jpan.dev\n",
        "with open('jpn_Jpan.dev', 'r') as f:\n",
        "    jpn = f.read()\n",
        "print(jpn)"
      ],
      "metadata": {
        "id": "ouGO23-gqS_K"
      },
      "execution_count": null,
      "outputs": []
    },
    {
      "cell_type": "code",
      "source": [
        "# import data: hin_Deva.dev\n",
        "with open('hin_Deva.dev', 'r') as f:\n",
        "    hin = f.read()\n",
        "print(hin)"
      ],
      "metadata": {
        "id": "-eVbsrFX4f3J"
      },
      "execution_count": null,
      "outputs": []
    },
    {
      "cell_type": "code",
      "source": [
        "# import data: ind_Latn.dev\n",
        "with open('ind_Latn.dev', 'r') as f:\n",
        "    ind = f.read()\n",
        "print(ind)"
      ],
      "metadata": {
        "id": "X-tilk2O4o7k"
      },
      "execution_count": null,
      "outputs": []
    },
    {
      "cell_type": "code",
      "source": [
        "# import data: tha_Thai.dev\n",
        "with open('tha_Thai.dev', 'r') as f:\n",
        "    tha = f.read()\n",
        "print(tha)"
      ],
      "metadata": {
        "id": "TMyVsdnk4wX5"
      },
      "execution_count": null,
      "outputs": []
    },
    {
      "cell_type": "code",
      "source": [
        "# import data: vie_Latn.dev\n",
        "with open('vie_Latn.dev', 'r') as f:\n",
        "    vie = f.read()\n",
        "print(vie)"
      ],
      "metadata": {
        "id": "g9cGqlwn4_Lk"
      },
      "execution_count": null,
      "outputs": []
    },
    {
      "cell_type": "code",
      "source": [
        "# Convert strings to dataframe\n",
        "import pandas as pd\n",
        "import io\n",
        "\n",
        "kor_df = pd.DataFrame(kor.split('\\n'))\n",
        "eng_df = pd.DataFrame(eng.split('\\n'))\n",
        "spa_df = pd.DataFrame(spa.split('\\n'))\n",
        "jpn_df = pd.DataFrame(jpn.split('\\n'))\n",
        "hin_df = pd.DataFrame(hin.split('\\n'))\n",
        "tha_df = pd.DataFrame(tha.split('\\n'))\n",
        "vie_df = pd.DataFrame(vie.split('\\n'))\n",
        "ind_df = pd.DataFrame(ind.split('\\n'))\n",
        "\n",
        "\n",
        "\n",
        "print(kor_df.head())\n",
        "print(eng_df.head())\n",
        "print(spa_df.head())\n",
        "print(jpn_df.head())\n",
        "print(hin_df.head())\n",
        "print(tha_df.head())\n",
        "print(vie_df.head())\n",
        "print(ind_df.head())"
      ],
      "metadata": {
        "id": "54OzxNMSapNi",
        "colab": {
          "base_uri": "https://localhost:8080/"
        },
        "outputId": "3c26be2c-d73a-484c-f7ec-423a4ae7dbb6"
      },
      "execution_count": 50,
      "outputs": [
        {
          "output_type": "stream",
          "name": "stdout",
          "text": [
            "                                                   0\n",
            "0  스탠포드 의과대학 연구진은 지난 월요일 세포를 유형별로 분류할 수 있는 새로운 진단...\n",
            "1  수석 연구진들은 이것이 선진국 대비 절반의 생존율을 보이는 저소득 국가들의 환자들에...\n",
            "2  현지 시간으로 약 아침 9시 30분(0230 UTC)에 JAS 39C 그리펜이 활주...\n",
            "3                    그 조종사는 비행 중대장 딜로크리트 패타비로 확인되었다.\n",
            "4         현지 언론은 공항 소방차가 사고에 대응하는 도중에 전복되었다고 보도했습니다.\n",
            "                                                   0\n",
            "0  On Monday, scientists from the Stanford Univer...\n",
            "1  Lead researchers say this may bring early dete...\n",
            "2  The JAS 39C Gripen crashed onto a runway at ar...\n",
            "3  The pilot was identified as Squadron Leader Di...\n",
            "4  Local media reports an airport fire vehicle ro...\n",
            "                                                   0\n",
            "0  月曜日にスタンフォード大学医学部の科学者たちは、細胞を種類別に分類できる新しい診断ツールを発...\n",
            "1  主任研究者は、これは低所得国における患者の癌、結核、HIV、マラリアの早期発見につながる可能...\n",
            "2  JAS 39Cグリペンは現地時間の午前9時30分頃（UTC 0230）に滑走路に墜落して爆発...\n",
            "3               操縦士は中隊長のディロクリット・パタヴェー氏であることが確認されました。\n",
            "4              地元メディアの報道によると、空港の消防車が対応中に横転したということです。\n",
            "                                                   0\n",
            "0  月曜日にスタンフォード大学医学部の科学者たちは、細胞を種類別に分類できる新しい診断ツールを発...\n",
            "1  主任研究者は、これは低所得国における患者の癌、結核、HIV、マラリアの早期発見につながる可能...\n",
            "2  JAS 39Cグリペンは現地時間の午前9時30分頃（UTC 0230）に滑走路に墜落して爆発...\n",
            "3               操縦士は中隊長のディロクリット・パタヴェー氏であることが確認されました。\n",
            "4              地元メディアの報道によると、空港の消防車が対応中に横転したということです。\n",
            "                                                   0\n",
            "0  सोमवार को, स्टैनफ़ोर्ड यूनिवर्सिटी स्कूल ऑफ़ म...\n",
            "1  शोधकर्ताओं ने कहा है कि यह अल्प आय वाले देशों ...\n",
            "2  स्थानीय समय (0230 UTC) के मुताबिक करीब 9:30 बज...\n",
            "3  पायलट की पहचान स्क्वाड्रन लीडर दिलोकृत पटावी क...\n",
            "4  स्थानीय मीडिया ने बताया है कि कार्रवाई करने के...\n",
            "                                                   0\n",
            "0  เมื่อวันจันทร์ที่ผ่านมา นักวิทยาศาสตร์จากโรงเร...\n",
            "1  นักวิจัยชั้นนำกล่าวว่าสิ่งนี้อาจทำให้มีการตรวจ...\n",
            "2  JAS 39C Gripen ตกลงบนรันเวย์เมื่อเวลาประมาณ 09...\n",
            "3  นักบินคนดังกล่าวถูกระบุว่าเป็นนาวาอากาศตรีดิลก...\n",
            "4  ผู้สื่อข่าวท้องถิ่นรายงานว่ารถดับเพลิงประจำสนา...\n",
            "                                                   0\n",
            "0  Vào hôm thứ Hai, các nhà khoa học thuộc Trường...\n",
            "1  Các nhà nghiên cứu chính nói rằng điều này có ...\n",
            "2  Chiếc JAS 39C Gripen đâm xuống đường băng vào ...\n",
            "3  Viên phi công được xác định là Chỉ huy đội bay...\n",
            "4  Truyền thông địa phương đưa tin một phương tiệ...\n",
            "                                                   0\n",
            "0  Ilmuwan dari Stanford University School of Med...\n",
            "1  Ketua peneliti mengatakan bahwa diagnosis ini ...\n",
            "2  JAS 39C Gripen jatuh ke landasan pacu sekitar ...\n",
            "3  Pilot tersebut diidentifikasi sebagai Pemimpin...\n",
            "4  Media lokal melaporkan sebuah kendaraan pemada...\n"
          ]
        }
      ]
    },
    {
      "cell_type": "markdown",
      "source": [
        "# Translation with chat-GPT\n"
      ],
      "metadata": {
        "id": "d0y6jpPJawFs"
      }
    },
    {
      "cell_type": "code",
      "source": [
        "!pip install openai"
      ],
      "metadata": {
        "id": "0kpp7BJlcXQp"
      },
      "execution_count": null,
      "outputs": []
    },
    {
      "cell_type": "code",
      "source": [
        "api_key = \"ENTER API KEY HERE\" #Make sure to delete when uploading to GitHub\n",
        "\n",
        "from openai import OpenAI\n",
        "client = OpenAI(api_key=api_key)"
      ],
      "metadata": {
        "id": "Ufdj8ELlt2Eh"
      },
      "execution_count": 47,
      "outputs": []
    },
    {
      "cell_type": "markdown",
      "source": [
        "###Testing with Japanese chat-GPT-3.5"
      ],
      "metadata": {
        "id": "niUQyDOQuVFa"
      }
    },
    {
      "cell_type": "code",
      "source": [
        "test_jpn_df = jpn_df[0:10]  # Selecting first 10 rows for testing\n",
        "\n",
        "# Initialize list to store translated conversations\n",
        "translated_sentences = []\n",
        "\n",
        "# Iterating over the Japanese sentences in the DataFrame\n",
        "for japanese_text in test_jpn_df[0]:\n",
        "    # Creating a translation request to OpenAI\n",
        "    response = client.chat.completions.create(\n",
        "        model=\"gpt-3.5-turbo\",\n",
        "        messages=[\n",
        "        {\"role\": \"user\", \"content\": f\"Translate the following Japanese text to English: {japanese_text}\"}\n",
        "    ],\n",
        "    stream=True\n",
        ")\n",
        "\n",
        "    # Processing the streaming response\n",
        "    translated_text = ''\n",
        "    for chunk in response:\n",
        "        if chunk.choices[0].delta.content is not None:\n",
        "            translated_text += chunk.choices[0].delta.content\n",
        "\n",
        "    # Append the translated text to the list\n",
        "    translated_sentences.append(translated_text)\n",
        "\n",
        "# Optionally, add translations back to DataFrame\n",
        "test_jpn_df['translated_text'] = translated_sentences\n",
        "\n",
        "# Now, `test_jpn_df` contains the original and translated texts\n",
        "print(test_jpn_df)"
      ],
      "metadata": {
        "id": "zLfCqQ2tgP0-",
        "colab": {
          "base_uri": "https://localhost:8080/"
        },
        "outputId": "f96a0016-4b5f-4703-c799-59921480d4dc"
      },
      "execution_count": 25,
      "outputs": [
        {
          "output_type": "stream",
          "name": "stdout",
          "text": [
            "                                                   0  \\\n",
            "0  月曜日にスタンフォード大学医学部の科学者たちは、細胞を種類別に分類できる新しい診断ツールを発...   \n",
            "1  主任研究者は、これは低所得国における患者の癌、結核、HIV、マラリアの早期発見につながる可能...   \n",
            "2  JAS 39Cグリペンは現地時間の午前9時30分頃（UTC 0230）に滑走路に墜落して爆発...   \n",
            "3               操縦士は中隊長のディロクリット・パタヴェー氏であることが確認されました。   \n",
            "4              地元メディアの報道によると、空港の消防車が対応中に横転したということです。   \n",
            "5         28歳のビダル選手は、3シーズン前にセビージャから移籍してバルサに所属していました。   \n",
            "6               カタルーニャの州都に移って以来、ビダルはクラブで49試合に出場しました。   \n",
            "7  抗議行動は、現地時間11:00（UTC+1）頃にホワイトホール通りで始まり、首相官邸があるダ...   \n",
            "8           11時すぎちょうどに抗議者たちはホワイトホールの北行き車両の交通を遮断しました。   \n",
            "9  11時20分になると、警察は抗議する権利と交通量のバランスを弁える必要があると告げて、抗議者...   \n",
            "\n",
            "                                     translated_text  \n",
            "0  On Monday, scientists from Stanford University...  \n",
            "1  The head researcher stated that this could lea...  \n",
            "2  The JAS 39C Gripen crashed and exploded on the...  \n",
            "3  The pilot was confirmed to be Squadron Leader ...  \n",
            "4  According to local media reports, it is said t...  \n",
            "5  Vidal, who is 28 years old, transferred from S...  \n",
            "6  Since moving to the capital of Catalonia, Vida...  \n",
            "7  The protest action started at around 11:00 loc...  \n",
            "8  At around 11 o'clock, protesters blocked traff...  \n",
            "9  At 11:20, the police informed the protesters t...  \n"
          ]
        },
        {
          "output_type": "stream",
          "name": "stderr",
          "text": [
            "<ipython-input-25-b458f2c9f433>:27: SettingWithCopyWarning: \n",
            "A value is trying to be set on a copy of a slice from a DataFrame.\n",
            "Try using .loc[row_indexer,col_indexer] = value instead\n",
            "\n",
            "See the caveats in the documentation: https://pandas.pydata.org/pandas-docs/stable/user_guide/indexing.html#returning-a-view-versus-a-copy\n",
            "  test_jpn_df['translated_text'] = translated_sentences\n"
          ]
        }
      ]
    },
    {
      "cell_type": "markdown",
      "source": [
        "###Looping for all language dataframe (GPT4)\n",
        "Change to model = \"gpt-3.5-turbo\" to run on GPT3.5\n",
        "1. Define function"
      ],
      "metadata": {
        "id": "s68o8orZv4Jx"
      }
    },
    {
      "cell_type": "code",
      "source": [
        "import pandas as pd\n",
        "\n",
        "def translate_text(df, column_index, target_language=\"English\"):\n",
        "    # Selecting first 10 rows for testing\n",
        "    test_df = df.iloc[:10, [column_index]]\n",
        "\n",
        "    # Initialize list to store translated sentences\n",
        "    translated_sentences = []\n",
        "\n",
        "    # Iterating over the sentences in the DataFrame\n",
        "    for text in test_df.iloc[:, 0]:\n",
        "        # Translation request to OpenAI using GPT4\n",
        "        response = client.chat.completions.create(\n",
        "            model=\"gpt-4\", # Change to \"gpt-3.5-turbo\" to run on GPT3.5\n",
        "            messages=[\n",
        "                {\"role\": \"user\", \"content\": f\"Translate the following text to {target_language}: {text}\"}\n",
        "            ],\n",
        "            stream=True\n",
        "        )\n",
        "\n",
        "        # Processing the streaming response\n",
        "        translated_text = ''\n",
        "        for chunk in response:\n",
        "            if chunk.choices[0].delta.content is not None:\n",
        "                translated_text += chunk.choices[0].delta.content\n",
        "\n",
        "        # Append the translated text to the list\n",
        "        translated_sentences.append(translated_text)\n",
        "\n",
        "    # Return only the list of translated sentences\n",
        "    return translated_sentences"
      ],
      "metadata": {
        "id": "nDFbDx9d1jHH"
      },
      "execution_count": 48,
      "outputs": []
    },
    {
      "cell_type": "markdown",
      "source": [
        "2. Loop over dataframes"
      ],
      "metadata": {
        "id": "KNinWSWJw04L"
      }
    },
    {
      "cell_type": "code",
      "source": [
        "# DataFrames with other languages\n",
        "dataframes = {\n",
        "    \"Korean\": kor_df,\n",
        "    \"Japanese\": jpn_df,\n",
        "    \"Spanish\": spa_df,\n",
        "    \"Hindi\": hin_df,\n",
        "    \"Indonesian\": ind_df,\n",
        "    \"Vietnamese\": vie_df,\n",
        "    \"Thai\": tha_df\n",
        "}\n",
        "\n",
        "# Specify to use the same column index for text\n",
        "column_index = 0"
      ],
      "metadata": {
        "id": "zfzr8Fee1wCe"
      },
      "execution_count": 51,
      "outputs": []
    },
    {
      "cell_type": "code",
      "source": [
        "# Initialize a new DataFrame to hold all translations\n",
        "combined_translations = pd.DataFrame()\n",
        "\n",
        "# Extract the original English texts from `eng_df`\n",
        "combined_translations['English (Original)'] = eng_df.iloc[:10, column_index]  # Adjust as per actual column index\n",
        "\n",
        "# Loop over the dictionary items\n",
        "for language, df in dataframes.items():\n",
        "    print(f\"Translating {language} DataFrame\")\n",
        "    # Using the translate_text function to get translated texts\n",
        "    translated_texts = translate_text(df, column_index)\n",
        "    combined_translations[language] = translated_texts\n",
        "\n",
        "print(combined_translations)"
      ],
      "metadata": {
        "colab": {
          "base_uri": "https://localhost:8080/"
        },
        "id": "pGzTsbPr1xcB",
        "outputId": "08d3f550-5852-4418-8e5f-697712ff8433"
      },
      "execution_count": 52,
      "outputs": [
        {
          "output_type": "stream",
          "name": "stdout",
          "text": [
            "Translating Korean DataFrame\n",
            "Translating Japanese DataFrame\n",
            "Translating Spanish DataFrame\n",
            "Translating Hindi DataFrame\n",
            "Translating Indonesian DataFrame\n",
            "Translating Vietnamese DataFrame\n",
            "Translating Thai DataFrame\n",
            "                                  English (Original)  \\\n",
            "0  On Monday, scientists from the Stanford Univer...   \n",
            "1  Lead researchers say this may bring early dete...   \n",
            "2  The JAS 39C Gripen crashed onto a runway at ar...   \n",
            "3  The pilot was identified as Squadron Leader Di...   \n",
            "4  Local media reports an airport fire vehicle ro...   \n",
            "5  28-year-old Vidal had joined Barça three seaso...   \n",
            "6  Since moving to the Catalan-capital, Vidal had...   \n",
            "7  The protest started around 11:00 local time (U...   \n",
            "8  Just after 11:00, protesters blocked traffic o...   \n",
            "9  At 11:20, the police asked the protesters to m...   \n",
            "\n",
            "                                              Korean  \\\n",
            "0  Stanford Medical School researchers announced ...   \n",
            "1  Senior researchers explain that this can bring...   \n",
            "2  Around 9:30 a.m. local time (0230 UTC), the JA...   \n",
            "3  The pilot was confirmed as flight commander Di...   \n",
            "4  Local media reported that an airport fire truc...   \n",
            "5  28-year-old Vidal joined FC Barcelona from Sev...   \n",
            "6  After transferring to Barcelona, Vidal played ...   \n",
            "7  The protest began around 11:00 local time (UTC...   \n",
            "8  Just after 11 o'clock, the protesters blocked ...   \n",
            "9  At 11:20, the police asked the protesters to r...   \n",
            "\n",
            "                                            Japanese  \\\n",
            "0  On Monday, scientists from Stanford University...   \n",
            "1  The principal researcher states that this coul...   \n",
            "2  The JAS 39C Gripen crashed on the runway aroun...   \n",
            "3  It has been confirmed that the pilot is Squadr...   \n",
            "4  According to local media reports, an airport f...   \n",
            "5  28-year-old player Vidal had transferred from ...   \n",
            "6  Since moving to the capital of Catalonia, Vida...   \n",
            "7  The protest action began around 11:00 local ti...   \n",
            "8  Just after 11 o'clock, the protesters blocked ...   \n",
            "9  At 11:20, the police informed the protesters t...   \n",
            "\n",
            "                                             Spanish  \\\n",
            "0  Scientists at Stanford University School of Me...   \n",
            "1  The lead researcher states that this potential...   \n",
            "2  The JAS 39C Gripen crashed onto the runway aro...   \n",
            "3  It has been confirmed that the pilot is Squadr...   \n",
            "4  According to local media reports, it is report...   \n",
            "5  The 28-year-old player Vidal belonged to Barca...   \n",
            "6  Since moving to the capital of Catalonia, Vida...   \n",
            "7  The protest action began around 11:00 local ti...   \n",
            "8  Just past 11 o'clock, the protesters blocked t...   \n",
            "9  When it became 11:20, the police stated that t...   \n",
            "\n",
            "                                               Hindi  \\\n",
            "0  On Monday, scientists from Stanford University...   \n",
            "1  Researchers have said that it will easily iden...   \n",
            "2  According to local time (0230 UTC), around 9:3...   \n",
            "3  The pilot was identified as Squadron Leader Di...   \n",
            "4  Local media reports that during the operation,...   \n",
            "5  28-year-old Vidal had joined Barca from Sevill...   \n",
            "6  Since going to the capital of Catalonia (Barce...   \n",
            "7  The protest started around 11:00 local time (U...   \n",
            "8  Just after 11:00, protesters stopped the traff...   \n",
            "9  At 11:20, the police told the protesters to re...   \n",
            "\n",
            "                                          Indonesian  \\\n",
            "0  Scientists from Stanford University School of ...   \n",
            "1  The lead researcher said that this diagnosis c...   \n",
            "2  The JAS 39C Gripen fell onto the runway around...   \n",
            "3  The pilot was identified as Squadron Leader Di...   \n",
            "4  Local media reported a fire truck at the airpo...   \n",
            "5  Vidal, who is 28 years old, joined Barça three...   \n",
            "6  Since settling in the Catalan capital, Vidal h...   \n",
            "7  The protest started around 11.00 local time (U...   \n",
            "8  Protesters precisely after 11:00 blocked trans...   \n",
            "9  At 11.20, the police asked the protesters to m...   \n",
            "\n",
            "                                          Vietnamese  \\\n",
            "0  On Monday, scientists from the Stanford Univer...   \n",
            "1  The main researchers say that this could help ...   \n",
            "2  The JAS 39C Gripen crashed onto the runway at ...   \n",
            "3  The pilot is identified as Squadron Leader Dil...   \n",
            "4  Local media reported that an airport fire resc...   \n",
            "5  Three seasons ago, Vidal left Sevilla to join ...   \n",
            "6  Since moving to the capital of Catalan, Vidal ...   \n",
            "7  The protest began around 11:00 am local time (...   \n",
            "8  Immediately after 11 o'clock, the protesters b...   \n",
            "9  At 11:20, the police asked the protesters to s...   \n",
            "\n",
            "                                                Thai  \n",
            "0  Last Monday, scientists from Stanford Universi...  \n",
            "1  Leading researchers say that this could allow ...  \n",
            "2  The JAS 39C Gripen crashed on the runway aroun...  \n",
            "3  The aforementioned pilot is identified as astr...  \n",
            "4  Local news reporters report that the airport's...  \n",
            "5  Vidal, aged 28, moved from Seville to join Bar...  \n",
            "6  Since moving to the capital of Catalonia, Vida...  \n",
            "7  The protest began at around 11:00 local time (...  \n",
            "8  After 11.00 AM, the protesters perfectly block...  \n",
            "9  At 11.20 a.m., the police asked the protesters...  \n"
          ]
        }
      ]
    },
    {
      "cell_type": "code",
      "source": [
        "combined_translations"
      ],
      "metadata": {
        "id": "k5bgXEpG1EcF"
      },
      "execution_count": null,
      "outputs": []
    },
    {
      "cell_type": "markdown",
      "source": [
        "# Tokenization Section"
      ],
      "metadata": {
        "id": "5J7npC3_9_BK"
      }
    },
    {
      "cell_type": "code",
      "source": [
        "def tokenize_text(text):\n",
        "    # Lowercase the text\n",
        "    text = text.lower()\n",
        "    # Tokenize the text\n",
        "    tokens = nltk.word_tokenize(text)\n",
        "    return tokens"
      ],
      "metadata": {
        "id": "BJBvnEAs-BGL"
      },
      "execution_count": 53,
      "outputs": []
    },
    {
      "cell_type": "code",
      "source": [
        "import nltk\n",
        "from nltk.translate.bleu_score import sentence_bleu\n",
        "from nltk.tokenize import word_tokenize\n",
        "\n",
        "nltk.download('punkt')\n",
        "\n",
        "ref_eng = combined_translations['English (Original)'].apply(tokenize_text)  # Tokenize the original English text"
      ],
      "metadata": {
        "colab": {
          "base_uri": "https://localhost:8080/"
        },
        "id": "wFi41Ln1-ZA8",
        "outputId": "6252276d-ce34-4ff7-8802-5bc3dd416106"
      },
      "execution_count": 55,
      "outputs": [
        {
          "output_type": "stream",
          "name": "stderr",
          "text": [
            "[nltk_data] Downloading package punkt to /root/nltk_data...\n",
            "[nltk_data]   Unzipping tokenizers/punkt.zip.\n"
          ]
        }
      ]
    },
    {
      "cell_type": "code",
      "source": [
        "ref_eng"
      ],
      "metadata": {
        "colab": {
          "base_uri": "https://localhost:8080/"
        },
        "id": "1g9mitFC-hSV",
        "outputId": "0ac687c8-1c4f-4ebc-be0c-ba1d8c55d988"
      },
      "execution_count": 56,
      "outputs": [
        {
          "output_type": "execute_result",
          "data": {
            "text/plain": [
              "0    [on, monday, ,, scientists, from, the, stanfor...\n",
              "1    [lead, researchers, say, this, may, bring, ear...\n",
              "2    [the, jas, 39c, gripen, crashed, onto, a, runw...\n",
              "3    [the, pilot, was, identified, as, squadron, le...\n",
              "4    [local, media, reports, an, airport, fire, veh...\n",
              "5    [28-year-old, vidal, had, joined, barça, three...\n",
              "6    [since, moving, to, the, catalan-capital, ,, v...\n",
              "7    [the, protest, started, around, 11:00, local, ...\n",
              "8    [just, after, 11:00, ,, protesters, blocked, t...\n",
              "9    [at, 11:20, ,, the, police, asked, the, protes...\n",
              "Name: English (Original), dtype: object"
            ]
          },
          "metadata": {},
          "execution_count": 56
        }
      ]
    },
    {
      "cell_type": "code",
      "source": [
        "\n",
        "# Initialize a DataFrame to hold BLEU scores\n",
        "bleu_scores = pd.DataFrame()\n",
        "\n",
        "# Iterate over the languages and calculate BLEU scores\n",
        "for language in ['Hindi', 'Indonesian', 'Japanese', 'Korean', 'Spanish', 'Thai', 'Vietnamese']:\n",
        "    # Tokenize the translated texts\n",
        "    combined_translations[language + ' Tokenized'] = combined_translations[language].apply(tokenize_text)\n",
        "\n",
        "    # Calculate BLEU scores\n",
        "    bleu_scores[language + ' BLEU'] = [\n",
        "        sentence_bleu([ref], hyp) for ref, hyp in zip(ref_eng, combined_translations[language + ' Tokenized'])\n",
        "    ]\n",
        "\n",
        "# Display BLEU scores\n",
        "print(bleu_scores)\n"
      ],
      "metadata": {
        "colab": {
          "base_uri": "https://localhost:8080/"
        },
        "id": "dZwqpPZf-ea2",
        "outputId": "5965eda3-b9f5-4214-f282-c8dc0077a157"
      },
      "execution_count": 57,
      "outputs": [
        {
          "output_type": "stream",
          "name": "stdout",
          "text": [
            "     Hindi BLEU  Indonesian BLEU  Japanese BLEU    Korean BLEU   Spanish BLEU  \\\n",
            "0  5.206961e-01     3.680572e-01   2.818239e-01   1.018802e-01   2.994965e-01   \n",
            "1  3.840909e-01     4.276890e-01   3.109180e-01   2.574094e-01   2.410833e-01   \n",
            "2  3.006990e-01     4.359012e-01   2.092943e-01   3.495194e-01   3.279581e-01   \n",
            "3  7.825423e-01     1.000000e+00  7.505698e-155   4.388320e-78  7.505698e-155   \n",
            "4  2.985703e-78    6.356121e-155   5.723083e-78   4.018676e-78   5.209002e-78   \n",
            "5  3.545321e-01     4.924791e-01   4.138768e-78  8.801541e-155   3.656724e-78   \n",
            "6  3.584669e-01    7.565683e-155   3.092852e-01   4.582349e-01   3.092852e-01   \n",
            "7  4.874377e-01     4.787088e-01   3.289008e-01   3.132878e-01   3.482353e-01   \n",
            "8  3.786812e-01    7.450344e-155  9.083389e-155  8.596275e-155   3.954356e-78   \n",
            "9  4.044783e-01     4.807662e-01   4.161724e-01   3.638147e-01   3.144352e-01   \n",
            "\n",
            "       Thai BLEU  Vietnamese BLEU  \n",
            "0   4.781726e-01     5.357671e-01  \n",
            "1   2.243340e-01     3.923683e-01  \n",
            "2   2.687900e-01     7.091300e-01  \n",
            "3   5.047285e-78     7.071068e-01  \n",
            "4  1.288230e-231     3.824527e-78  \n",
            "5   3.268342e-78     1.760928e-01  \n",
            "6   3.942058e-01     3.405205e-01  \n",
            "7   3.129299e-01     3.833059e-01  \n",
            "8   4.366649e-78     3.929406e-78  \n",
            "9   3.843662e-01     3.522502e-01  \n"
          ]
        },
        {
          "output_type": "stream",
          "name": "stderr",
          "text": [
            "/usr/local/lib/python3.10/dist-packages/nltk/translate/bleu_score.py:552: UserWarning: \n",
            "The hypothesis contains 0 counts of 4-gram overlaps.\n",
            "Therefore the BLEU score evaluates to 0, independently of\n",
            "how many N-gram overlaps of lower order it contains.\n",
            "Consider using lower n-gram order or use SmoothingFunction()\n",
            "  warnings.warn(_msg)\n",
            "/usr/local/lib/python3.10/dist-packages/nltk/translate/bleu_score.py:552: UserWarning: \n",
            "The hypothesis contains 0 counts of 3-gram overlaps.\n",
            "Therefore the BLEU score evaluates to 0, independently of\n",
            "how many N-gram overlaps of lower order it contains.\n",
            "Consider using lower n-gram order or use SmoothingFunction()\n",
            "  warnings.warn(_msg)\n",
            "/usr/local/lib/python3.10/dist-packages/nltk/translate/bleu_score.py:552: UserWarning: \n",
            "The hypothesis contains 0 counts of 4-gram overlaps.\n",
            "Therefore the BLEU score evaluates to 0, independently of\n",
            "how many N-gram overlaps of lower order it contains.\n",
            "Consider using lower n-gram order or use SmoothingFunction()\n",
            "  warnings.warn(_msg)\n",
            "/usr/local/lib/python3.10/dist-packages/nltk/translate/bleu_score.py:552: UserWarning: \n",
            "The hypothesis contains 0 counts of 3-gram overlaps.\n",
            "Therefore the BLEU score evaluates to 0, independently of\n",
            "how many N-gram overlaps of lower order it contains.\n",
            "Consider using lower n-gram order or use SmoothingFunction()\n",
            "  warnings.warn(_msg)\n",
            "/usr/local/lib/python3.10/dist-packages/nltk/translate/bleu_score.py:552: UserWarning: \n",
            "The hypothesis contains 0 counts of 4-gram overlaps.\n",
            "Therefore the BLEU score evaluates to 0, independently of\n",
            "how many N-gram overlaps of lower order it contains.\n",
            "Consider using lower n-gram order or use SmoothingFunction()\n",
            "  warnings.warn(_msg)\n",
            "/usr/local/lib/python3.10/dist-packages/nltk/translate/bleu_score.py:552: UserWarning: \n",
            "The hypothesis contains 0 counts of 4-gram overlaps.\n",
            "Therefore the BLEU score evaluates to 0, independently of\n",
            "how many N-gram overlaps of lower order it contains.\n",
            "Consider using lower n-gram order or use SmoothingFunction()\n",
            "  warnings.warn(_msg)\n",
            "/usr/local/lib/python3.10/dist-packages/nltk/translate/bleu_score.py:552: UserWarning: \n",
            "The hypothesis contains 0 counts of 3-gram overlaps.\n",
            "Therefore the BLEU score evaluates to 0, independently of\n",
            "how many N-gram overlaps of lower order it contains.\n",
            "Consider using lower n-gram order or use SmoothingFunction()\n",
            "  warnings.warn(_msg)\n",
            "/usr/local/lib/python3.10/dist-packages/nltk/translate/bleu_score.py:552: UserWarning: \n",
            "The hypothesis contains 0 counts of 3-gram overlaps.\n",
            "Therefore the BLEU score evaluates to 0, independently of\n",
            "how many N-gram overlaps of lower order it contains.\n",
            "Consider using lower n-gram order or use SmoothingFunction()\n",
            "  warnings.warn(_msg)\n",
            "/usr/local/lib/python3.10/dist-packages/nltk/translate/bleu_score.py:552: UserWarning: \n",
            "The hypothesis contains 0 counts of 4-gram overlaps.\n",
            "Therefore the BLEU score evaluates to 0, independently of\n",
            "how many N-gram overlaps of lower order it contains.\n",
            "Consider using lower n-gram order or use SmoothingFunction()\n",
            "  warnings.warn(_msg)\n",
            "/usr/local/lib/python3.10/dist-packages/nltk/translate/bleu_score.py:552: UserWarning: \n",
            "The hypothesis contains 0 counts of 4-gram overlaps.\n",
            "Therefore the BLEU score evaluates to 0, independently of\n",
            "how many N-gram overlaps of lower order it contains.\n",
            "Consider using lower n-gram order or use SmoothingFunction()\n",
            "  warnings.warn(_msg)\n",
            "/usr/local/lib/python3.10/dist-packages/nltk/translate/bleu_score.py:552: UserWarning: \n",
            "The hypothesis contains 0 counts of 2-gram overlaps.\n",
            "Therefore the BLEU score evaluates to 0, independently of\n",
            "how many N-gram overlaps of lower order it contains.\n",
            "Consider using lower n-gram order or use SmoothingFunction()\n",
            "  warnings.warn(_msg)\n",
            "/usr/local/lib/python3.10/dist-packages/nltk/translate/bleu_score.py:552: UserWarning: \n",
            "The hypothesis contains 0 counts of 3-gram overlaps.\n",
            "Therefore the BLEU score evaluates to 0, independently of\n",
            "how many N-gram overlaps of lower order it contains.\n",
            "Consider using lower n-gram order or use SmoothingFunction()\n",
            "  warnings.warn(_msg)\n",
            "/usr/local/lib/python3.10/dist-packages/nltk/translate/bleu_score.py:552: UserWarning: \n",
            "The hypothesis contains 0 counts of 4-gram overlaps.\n",
            "Therefore the BLEU score evaluates to 0, independently of\n",
            "how many N-gram overlaps of lower order it contains.\n",
            "Consider using lower n-gram order or use SmoothingFunction()\n",
            "  warnings.warn(_msg)\n"
          ]
        }
      ]
    },
    {
      "cell_type": "code",
      "source": [
        "bleu_scores"
      ],
      "metadata": {
        "colab": {
          "base_uri": "https://localhost:8080/",
          "height": 363
        },
        "id": "rdt0SuGl_KEP",
        "outputId": "161c86c9-5266-405f-8c90-38c109f6f5dd"
      },
      "execution_count": 59,
      "outputs": [
        {
          "output_type": "execute_result",
          "data": {
            "text/plain": [
              "     Hindi BLEU  Indonesian BLEU  Japanese BLEU    Korean BLEU   Spanish BLEU  \\\n",
              "0  5.206961e-01     3.680572e-01   2.818239e-01   1.018802e-01   2.994965e-01   \n",
              "1  3.840909e-01     4.276890e-01   3.109180e-01   2.574094e-01   2.410833e-01   \n",
              "2  3.006990e-01     4.359012e-01   2.092943e-01   3.495194e-01   3.279581e-01   \n",
              "3  7.825423e-01     1.000000e+00  7.505698e-155   4.388320e-78  7.505698e-155   \n",
              "4  2.985703e-78    6.356121e-155   5.723083e-78   4.018676e-78   5.209002e-78   \n",
              "5  3.545321e-01     4.924791e-01   4.138768e-78  8.801541e-155   3.656724e-78   \n",
              "6  3.584669e-01    7.565683e-155   3.092852e-01   4.582349e-01   3.092852e-01   \n",
              "7  4.874377e-01     4.787088e-01   3.289008e-01   3.132878e-01   3.482353e-01   \n",
              "8  3.786812e-01    7.450344e-155  9.083389e-155  8.596275e-155   3.954356e-78   \n",
              "9  4.044783e-01     4.807662e-01   4.161724e-01   3.638147e-01   3.144352e-01   \n",
              "\n",
              "       Thai BLEU  Vietnamese BLEU  \n",
              "0   4.781726e-01     5.357671e-01  \n",
              "1   2.243340e-01     3.923683e-01  \n",
              "2   2.687900e-01     7.091300e-01  \n",
              "3   5.047285e-78     7.071068e-01  \n",
              "4  1.288230e-231     3.824527e-78  \n",
              "5   3.268342e-78     1.760928e-01  \n",
              "6   3.942058e-01     3.405205e-01  \n",
              "7   3.129299e-01     3.833059e-01  \n",
              "8   4.366649e-78     3.929406e-78  \n",
              "9   3.843662e-01     3.522502e-01  "
            ],
            "text/html": [
              "\n",
              "  <div id=\"df-17926c77-f5c5-4671-bdfe-6078bd7b486e\" class=\"colab-df-container\">\n",
              "    <div>\n",
              "<style scoped>\n",
              "    .dataframe tbody tr th:only-of-type {\n",
              "        vertical-align: middle;\n",
              "    }\n",
              "\n",
              "    .dataframe tbody tr th {\n",
              "        vertical-align: top;\n",
              "    }\n",
              "\n",
              "    .dataframe thead th {\n",
              "        text-align: right;\n",
              "    }\n",
              "</style>\n",
              "<table border=\"1\" class=\"dataframe\">\n",
              "  <thead>\n",
              "    <tr style=\"text-align: right;\">\n",
              "      <th></th>\n",
              "      <th>Hindi BLEU</th>\n",
              "      <th>Indonesian BLEU</th>\n",
              "      <th>Japanese BLEU</th>\n",
              "      <th>Korean BLEU</th>\n",
              "      <th>Spanish BLEU</th>\n",
              "      <th>Thai BLEU</th>\n",
              "      <th>Vietnamese BLEU</th>\n",
              "    </tr>\n",
              "  </thead>\n",
              "  <tbody>\n",
              "    <tr>\n",
              "      <th>0</th>\n",
              "      <td>5.206961e-01</td>\n",
              "      <td>3.680572e-01</td>\n",
              "      <td>2.818239e-01</td>\n",
              "      <td>1.018802e-01</td>\n",
              "      <td>2.994965e-01</td>\n",
              "      <td>4.781726e-01</td>\n",
              "      <td>5.357671e-01</td>\n",
              "    </tr>\n",
              "    <tr>\n",
              "      <th>1</th>\n",
              "      <td>3.840909e-01</td>\n",
              "      <td>4.276890e-01</td>\n",
              "      <td>3.109180e-01</td>\n",
              "      <td>2.574094e-01</td>\n",
              "      <td>2.410833e-01</td>\n",
              "      <td>2.243340e-01</td>\n",
              "      <td>3.923683e-01</td>\n",
              "    </tr>\n",
              "    <tr>\n",
              "      <th>2</th>\n",
              "      <td>3.006990e-01</td>\n",
              "      <td>4.359012e-01</td>\n",
              "      <td>2.092943e-01</td>\n",
              "      <td>3.495194e-01</td>\n",
              "      <td>3.279581e-01</td>\n",
              "      <td>2.687900e-01</td>\n",
              "      <td>7.091300e-01</td>\n",
              "    </tr>\n",
              "    <tr>\n",
              "      <th>3</th>\n",
              "      <td>7.825423e-01</td>\n",
              "      <td>1.000000e+00</td>\n",
              "      <td>7.505698e-155</td>\n",
              "      <td>4.388320e-78</td>\n",
              "      <td>7.505698e-155</td>\n",
              "      <td>5.047285e-78</td>\n",
              "      <td>7.071068e-01</td>\n",
              "    </tr>\n",
              "    <tr>\n",
              "      <th>4</th>\n",
              "      <td>2.985703e-78</td>\n",
              "      <td>6.356121e-155</td>\n",
              "      <td>5.723083e-78</td>\n",
              "      <td>4.018676e-78</td>\n",
              "      <td>5.209002e-78</td>\n",
              "      <td>1.288230e-231</td>\n",
              "      <td>3.824527e-78</td>\n",
              "    </tr>\n",
              "    <tr>\n",
              "      <th>5</th>\n",
              "      <td>3.545321e-01</td>\n",
              "      <td>4.924791e-01</td>\n",
              "      <td>4.138768e-78</td>\n",
              "      <td>8.801541e-155</td>\n",
              "      <td>3.656724e-78</td>\n",
              "      <td>3.268342e-78</td>\n",
              "      <td>1.760928e-01</td>\n",
              "    </tr>\n",
              "    <tr>\n",
              "      <th>6</th>\n",
              "      <td>3.584669e-01</td>\n",
              "      <td>7.565683e-155</td>\n",
              "      <td>3.092852e-01</td>\n",
              "      <td>4.582349e-01</td>\n",
              "      <td>3.092852e-01</td>\n",
              "      <td>3.942058e-01</td>\n",
              "      <td>3.405205e-01</td>\n",
              "    </tr>\n",
              "    <tr>\n",
              "      <th>7</th>\n",
              "      <td>4.874377e-01</td>\n",
              "      <td>4.787088e-01</td>\n",
              "      <td>3.289008e-01</td>\n",
              "      <td>3.132878e-01</td>\n",
              "      <td>3.482353e-01</td>\n",
              "      <td>3.129299e-01</td>\n",
              "      <td>3.833059e-01</td>\n",
              "    </tr>\n",
              "    <tr>\n",
              "      <th>8</th>\n",
              "      <td>3.786812e-01</td>\n",
              "      <td>7.450344e-155</td>\n",
              "      <td>9.083389e-155</td>\n",
              "      <td>8.596275e-155</td>\n",
              "      <td>3.954356e-78</td>\n",
              "      <td>4.366649e-78</td>\n",
              "      <td>3.929406e-78</td>\n",
              "    </tr>\n",
              "    <tr>\n",
              "      <th>9</th>\n",
              "      <td>4.044783e-01</td>\n",
              "      <td>4.807662e-01</td>\n",
              "      <td>4.161724e-01</td>\n",
              "      <td>3.638147e-01</td>\n",
              "      <td>3.144352e-01</td>\n",
              "      <td>3.843662e-01</td>\n",
              "      <td>3.522502e-01</td>\n",
              "    </tr>\n",
              "  </tbody>\n",
              "</table>\n",
              "</div>\n",
              "    <div class=\"colab-df-buttons\">\n",
              "\n",
              "  <div class=\"colab-df-container\">\n",
              "    <button class=\"colab-df-convert\" onclick=\"convertToInteractive('df-17926c77-f5c5-4671-bdfe-6078bd7b486e')\"\n",
              "            title=\"Convert this dataframe to an interactive table.\"\n",
              "            style=\"display:none;\">\n",
              "\n",
              "  <svg xmlns=\"http://www.w3.org/2000/svg\" height=\"24px\" viewBox=\"0 -960 960 960\">\n",
              "    <path d=\"M120-120v-720h720v720H120Zm60-500h600v-160H180v160Zm220 220h160v-160H400v160Zm0 220h160v-160H400v160ZM180-400h160v-160H180v160Zm440 0h160v-160H620v160ZM180-180h160v-160H180v160Zm440 0h160v-160H620v160Z\"/>\n",
              "  </svg>\n",
              "    </button>\n",
              "\n",
              "  <style>\n",
              "    .colab-df-container {\n",
              "      display:flex;\n",
              "      gap: 12px;\n",
              "    }\n",
              "\n",
              "    .colab-df-convert {\n",
              "      background-color: #E8F0FE;\n",
              "      border: none;\n",
              "      border-radius: 50%;\n",
              "      cursor: pointer;\n",
              "      display: none;\n",
              "      fill: #1967D2;\n",
              "      height: 32px;\n",
              "      padding: 0 0 0 0;\n",
              "      width: 32px;\n",
              "    }\n",
              "\n",
              "    .colab-df-convert:hover {\n",
              "      background-color: #E2EBFA;\n",
              "      box-shadow: 0px 1px 2px rgba(60, 64, 67, 0.3), 0px 1px 3px 1px rgba(60, 64, 67, 0.15);\n",
              "      fill: #174EA6;\n",
              "    }\n",
              "\n",
              "    .colab-df-buttons div {\n",
              "      margin-bottom: 4px;\n",
              "    }\n",
              "\n",
              "    [theme=dark] .colab-df-convert {\n",
              "      background-color: #3B4455;\n",
              "      fill: #D2E3FC;\n",
              "    }\n",
              "\n",
              "    [theme=dark] .colab-df-convert:hover {\n",
              "      background-color: #434B5C;\n",
              "      box-shadow: 0px 1px 3px 1px rgba(0, 0, 0, 0.15);\n",
              "      filter: drop-shadow(0px 1px 2px rgba(0, 0, 0, 0.3));\n",
              "      fill: #FFFFFF;\n",
              "    }\n",
              "  </style>\n",
              "\n",
              "    <script>\n",
              "      const buttonEl =\n",
              "        document.querySelector('#df-17926c77-f5c5-4671-bdfe-6078bd7b486e button.colab-df-convert');\n",
              "      buttonEl.style.display =\n",
              "        google.colab.kernel.accessAllowed ? 'block' : 'none';\n",
              "\n",
              "      async function convertToInteractive(key) {\n",
              "        const element = document.querySelector('#df-17926c77-f5c5-4671-bdfe-6078bd7b486e');\n",
              "        const dataTable =\n",
              "          await google.colab.kernel.invokeFunction('convertToInteractive',\n",
              "                                                    [key], {});\n",
              "        if (!dataTable) return;\n",
              "\n",
              "        const docLinkHtml = 'Like what you see? Visit the ' +\n",
              "          '<a target=\"_blank\" href=https://colab.research.google.com/notebooks/data_table.ipynb>data table notebook</a>'\n",
              "          + ' to learn more about interactive tables.';\n",
              "        element.innerHTML = '';\n",
              "        dataTable['output_type'] = 'display_data';\n",
              "        await google.colab.output.renderOutput(dataTable, element);\n",
              "        const docLink = document.createElement('div');\n",
              "        docLink.innerHTML = docLinkHtml;\n",
              "        element.appendChild(docLink);\n",
              "      }\n",
              "    </script>\n",
              "  </div>\n",
              "\n",
              "\n",
              "<div id=\"df-b7e81009-4ea6-4188-845c-bbbb8a12bebb\">\n",
              "  <button class=\"colab-df-quickchart\" onclick=\"quickchart('df-b7e81009-4ea6-4188-845c-bbbb8a12bebb')\"\n",
              "            title=\"Suggest charts\"\n",
              "            style=\"display:none;\">\n",
              "\n",
              "<svg xmlns=\"http://www.w3.org/2000/svg\" height=\"24px\"viewBox=\"0 0 24 24\"\n",
              "     width=\"24px\">\n",
              "    <g>\n",
              "        <path d=\"M19 3H5c-1.1 0-2 .9-2 2v14c0 1.1.9 2 2 2h14c1.1 0 2-.9 2-2V5c0-1.1-.9-2-2-2zM9 17H7v-7h2v7zm4 0h-2V7h2v10zm4 0h-2v-4h2v4z\"/>\n",
              "    </g>\n",
              "</svg>\n",
              "  </button>\n",
              "\n",
              "<style>\n",
              "  .colab-df-quickchart {\n",
              "      --bg-color: #E8F0FE;\n",
              "      --fill-color: #1967D2;\n",
              "      --hover-bg-color: #E2EBFA;\n",
              "      --hover-fill-color: #174EA6;\n",
              "      --disabled-fill-color: #AAA;\n",
              "      --disabled-bg-color: #DDD;\n",
              "  }\n",
              "\n",
              "  [theme=dark] .colab-df-quickchart {\n",
              "      --bg-color: #3B4455;\n",
              "      --fill-color: #D2E3FC;\n",
              "      --hover-bg-color: #434B5C;\n",
              "      --hover-fill-color: #FFFFFF;\n",
              "      --disabled-bg-color: #3B4455;\n",
              "      --disabled-fill-color: #666;\n",
              "  }\n",
              "\n",
              "  .colab-df-quickchart {\n",
              "    background-color: var(--bg-color);\n",
              "    border: none;\n",
              "    border-radius: 50%;\n",
              "    cursor: pointer;\n",
              "    display: none;\n",
              "    fill: var(--fill-color);\n",
              "    height: 32px;\n",
              "    padding: 0;\n",
              "    width: 32px;\n",
              "  }\n",
              "\n",
              "  .colab-df-quickchart:hover {\n",
              "    background-color: var(--hover-bg-color);\n",
              "    box-shadow: 0 1px 2px rgba(60, 64, 67, 0.3), 0 1px 3px 1px rgba(60, 64, 67, 0.15);\n",
              "    fill: var(--button-hover-fill-color);\n",
              "  }\n",
              "\n",
              "  .colab-df-quickchart-complete:disabled,\n",
              "  .colab-df-quickchart-complete:disabled:hover {\n",
              "    background-color: var(--disabled-bg-color);\n",
              "    fill: var(--disabled-fill-color);\n",
              "    box-shadow: none;\n",
              "  }\n",
              "\n",
              "  .colab-df-spinner {\n",
              "    border: 2px solid var(--fill-color);\n",
              "    border-color: transparent;\n",
              "    border-bottom-color: var(--fill-color);\n",
              "    animation:\n",
              "      spin 1s steps(1) infinite;\n",
              "  }\n",
              "\n",
              "  @keyframes spin {\n",
              "    0% {\n",
              "      border-color: transparent;\n",
              "      border-bottom-color: var(--fill-color);\n",
              "      border-left-color: var(--fill-color);\n",
              "    }\n",
              "    20% {\n",
              "      border-color: transparent;\n",
              "      border-left-color: var(--fill-color);\n",
              "      border-top-color: var(--fill-color);\n",
              "    }\n",
              "    30% {\n",
              "      border-color: transparent;\n",
              "      border-left-color: var(--fill-color);\n",
              "      border-top-color: var(--fill-color);\n",
              "      border-right-color: var(--fill-color);\n",
              "    }\n",
              "    40% {\n",
              "      border-color: transparent;\n",
              "      border-right-color: var(--fill-color);\n",
              "      border-top-color: var(--fill-color);\n",
              "    }\n",
              "    60% {\n",
              "      border-color: transparent;\n",
              "      border-right-color: var(--fill-color);\n",
              "    }\n",
              "    80% {\n",
              "      border-color: transparent;\n",
              "      border-right-color: var(--fill-color);\n",
              "      border-bottom-color: var(--fill-color);\n",
              "    }\n",
              "    90% {\n",
              "      border-color: transparent;\n",
              "      border-bottom-color: var(--fill-color);\n",
              "    }\n",
              "  }\n",
              "</style>\n",
              "\n",
              "  <script>\n",
              "    async function quickchart(key) {\n",
              "      const quickchartButtonEl =\n",
              "        document.querySelector('#' + key + ' button');\n",
              "      quickchartButtonEl.disabled = true;  // To prevent multiple clicks.\n",
              "      quickchartButtonEl.classList.add('colab-df-spinner');\n",
              "      try {\n",
              "        const charts = await google.colab.kernel.invokeFunction(\n",
              "            'suggestCharts', [key], {});\n",
              "      } catch (error) {\n",
              "        console.error('Error during call to suggestCharts:', error);\n",
              "      }\n",
              "      quickchartButtonEl.classList.remove('colab-df-spinner');\n",
              "      quickchartButtonEl.classList.add('colab-df-quickchart-complete');\n",
              "    }\n",
              "    (() => {\n",
              "      let quickchartButtonEl =\n",
              "        document.querySelector('#df-b7e81009-4ea6-4188-845c-bbbb8a12bebb button');\n",
              "      quickchartButtonEl.style.display =\n",
              "        google.colab.kernel.accessAllowed ? 'block' : 'none';\n",
              "    })();\n",
              "  </script>\n",
              "</div>\n",
              "    </div>\n",
              "  </div>\n"
            ],
            "application/vnd.google.colaboratory.intrinsic+json": {
              "type": "dataframe",
              "variable_name": "bleu_scores",
              "summary": "{\n  \"name\": \"bleu_scores\",\n  \"rows\": 10,\n  \"fields\": [\n    {\n      \"column\": \"Hindi BLEU\",\n      \"properties\": {\n        \"dtype\": \"number\",\n        \"std\": 0.19517845497965075,\n        \"min\": 2.9857029691673486e-78,\n        \"max\": 0.7825422900366437,\n        \"num_unique_values\": 10,\n        \"samples\": [\n          0.37868117902707676,\n          0.38409090760684506,\n          0.3545320601683871\n        ],\n        \"semantic_type\": \"\",\n        \"description\": \"\"\n      }\n    },\n    {\n      \"column\": \"Indonesian BLEU\",\n      \"properties\": {\n        \"dtype\": \"number\",\n        \"std\": 0.30810094700799723,\n        \"min\": 6.356121367760845e-155,\n        \"max\": 1.0,\n        \"num_unique_values\": 10,\n        \"samples\": [\n          7.450343816495198e-155,\n          0.4276890208908187,\n          0.4924790605054523\n        ],\n        \"semantic_type\": \"\",\n        \"description\": \"\"\n      }\n    },\n    {\n      \"column\": \"Japanese BLEU\",\n      \"properties\": {\n        \"dtype\": \"number\",\n        \"std\": 0.16743530378274232,\n        \"min\": 7.505697654413981e-155,\n        \"max\": 0.4161723637615158,\n        \"num_unique_values\": 10,\n        \"samples\": [\n          9.083388515068854e-155,\n          0.31091799342979165,\n          4.13876789251507e-78\n        ],\n        \"semantic_type\": \"\",\n        \"description\": \"\"\n      }\n    },\n    {\n      \"column\": \"Korean BLEU\",\n      \"properties\": {\n        \"dtype\": \"number\",\n        \"std\": 0.1823321076053986,\n        \"min\": 8.59627505926315e-155,\n        \"max\": 0.45823488902305015,\n        \"num_unique_values\": 10,\n        \"samples\": [\n          8.59627505926315e-155,\n          0.25740935234241297,\n          8.80154124704578e-155\n        ],\n        \"semantic_type\": \"\",\n        \"description\": \"\"\n      }\n    },\n    {\n      \"column\": \"Spanish BLEU\",\n      \"properties\": {\n        \"dtype\": \"number\",\n        \"std\": 0.1607029037045331,\n        \"min\": 7.505697654413981e-155,\n        \"max\": 0.34823528327578535,\n        \"num_unique_values\": 10,\n        \"samples\": [\n          3.9543559515104263e-78,\n          0.24108328007886093,\n          3.6567243989863426e-78\n        ],\n        \"semantic_type\": \"\",\n        \"description\": \"\"\n      }\n    },\n    {\n      \"column\": \"Thai BLEU\",\n      \"properties\": {\n        \"dtype\": \"number\",\n        \"std\": 0.19054593355904179,\n        \"min\": 1.2882297539194154e-231,\n        \"max\": 0.4781725790797618,\n        \"num_unique_values\": 10,\n        \"samples\": [\n          4.366648682809684e-78,\n          0.2243339839256708,\n          3.2683416997819595e-78\n        ],\n        \"semantic_type\": \"\",\n        \"description\": \"\"\n      }\n    },\n    {\n      \"column\": \"Vietnamese BLEU\",\n      \"properties\": {\n        \"dtype\": \"number\",\n        \"std\": 0.25129000301387616,\n        \"min\": 3.8245273678543377e-78,\n        \"max\": 0.7091299972295233,\n        \"num_unique_values\": 10,\n        \"samples\": [\n          3.9294060881161865e-78,\n          0.392368269894461,\n          0.1760928267911618\n        ],\n        \"semantic_type\": \"\",\n        \"description\": \"\"\n      }\n    }\n  ]\n}"
            }
          },
          "metadata": {},
          "execution_count": 59
        }
      ]
    }
  ]
}