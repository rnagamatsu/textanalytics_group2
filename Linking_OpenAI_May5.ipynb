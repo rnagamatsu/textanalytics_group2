{
  "nbformat": 4,
  "nbformat_minor": 0,
  "metadata": {
    "colab": {
      "provenance": []
    },
    "kernelspec": {
      "name": "python3",
      "display_name": "Python 3"
    },
    "language_info": {
      "name": "python"
    }
  },
  "cells": [
    {
      "cell_type": "markdown",
      "source": [
        "# 1. Linking OpenAI using API\n",
        "\n",
        "warning: Seems like openai.ChatCompletion does not work anymore!!\n",
        "Use client.chat.completions instead"
      ],
      "metadata": {
        "id": "45g7ble1hi1-"
      }
    },
    {
      "cell_type": "code",
      "metadata": {
        "id": "vapOuHqBQVg8"
      },
      "source": [
        "!pip install openai"
      ],
      "execution_count": null,
      "outputs": []
    },
    {
      "cell_type": "markdown",
      "source": [
        "## 2. Testing"
      ],
      "metadata": {
        "id": "wvS-GhPfijN4"
      }
    },
    {
      "cell_type": "code",
      "source": [
        "api_key = \"sk-proj-EnIykWEAURgUnHTyKF7KT3BlbkFJ0OfklwbllohQsYMO7ylx\"\n",
        "\n",
        "from openai import OpenAI\n",
        "client = OpenAI(api_key=api_key)\n",
        "\n",
        "stream = client.chat.completions.create(\n",
        "    model=\"gpt-4\",\n",
        "    messages=[{\"role\": \"user\", \"content\": \"Translate the following Japanese text to English: こんにちは\"}],\n",
        "    stream=True,\n",
        ")\n",
        "for chunk in stream:\n",
        "    if chunk.choices[0].delta.content is not None:\n",
        "        print(chunk.choices[0].delta.content, end=\"\")"
      ],
      "metadata": {
        "colab": {
          "base_uri": "https://localhost:8080/"
        },
        "id": "bcL8hXagf1Kh",
        "outputId": "5e1a3081-ad04-4276-b700-04b4fe9a24c5"
      },
      "execution_count": 4,
      "outputs": [
        {
          "output_type": "stream",
          "name": "stdout",
          "text": [
            "Hello"
          ]
        }
      ]
    },
    {
      "cell_type": "code",
      "source": [
        "stream = client.chat.completions.create(\n",
        "    model=\"gpt-4\",\n",
        "    messages=[{\"role\": \"user\", \"content\": \"Translate the following Japanese text to English: 彼女はただの子供です\"}],\n",
        "    stream=True,\n",
        ")\n",
        "for chunk in stream:\n",
        "    if chunk.choices[0].delta.content is not None:\n",
        "        print(chunk.choices[0].delta.content, end=\"\")"
      ],
      "metadata": {
        "colab": {
          "base_uri": "https://localhost:8080/"
        },
        "id": "EW2WO5xzinl8",
        "outputId": "135f0757-5b5e-4ccd-cf8e-1adc8f74f9b8"
      },
      "execution_count": 5,
      "outputs": [
        {
          "output_type": "stream",
          "name": "stdout",
          "text": [
            "She is just a child."
          ]
        }
      ]
    }
  ]
}